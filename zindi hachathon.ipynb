{
 "cells": [
  {
   "cell_type": "code",
   "execution_count": 2,
   "metadata": {},
   "outputs": [],
   "source": [
    "import pandas as pd \n",
    "path=\"/home/ilyes/Desktop/zindi\"\n",
    "traindf = pd.read_csv(path+\"/Train_v2.csv\")\n",
    "testdf = pd.read_csv(path+\"/Test_v2.csv\")"
   ]
  },
  {
   "cell_type": "code",
   "execution_count": 5,
   "metadata": {},
   "outputs": [
    {
     "data": {
      "text/html": [
       "<div>\n",
       "<style scoped>\n",
       "    .dataframe tbody tr th:only-of-type {\n",
       "        vertical-align: middle;\n",
       "    }\n",
       "\n",
       "    .dataframe tbody tr th {\n",
       "        vertical-align: top;\n",
       "    }\n",
       "\n",
       "    .dataframe thead th {\n",
       "        text-align: right;\n",
       "    }\n",
       "</style>\n",
       "<table border=\"1\" class=\"dataframe\">\n",
       "  <thead>\n",
       "    <tr style=\"text-align: right;\">\n",
       "      <th></th>\n",
       "      <th>country</th>\n",
       "      <th>bank_account</th>\n",
       "      <th>location_type</th>\n",
       "      <th>cellphone_access</th>\n",
       "      <th>household_size</th>\n",
       "      <th>age_of_respondent</th>\n",
       "      <th>gender_of_respondent</th>\n",
       "      <th>relationship_with_head</th>\n",
       "      <th>marital_status</th>\n",
       "      <th>education_level</th>\n",
       "      <th>job_type</th>\n",
       "    </tr>\n",
       "  </thead>\n",
       "  <tbody>\n",
       "    <tr>\n",
       "      <th>23514</th>\n",
       "      <td>3</td>\n",
       "      <td>0</td>\n",
       "      <td>0</td>\n",
       "      <td>1</td>\n",
       "      <td>1</td>\n",
       "      <td>0</td>\n",
       "      <td>0</td>\n",
       "      <td>1</td>\n",
       "      <td>0</td>\n",
       "      <td>3</td>\n",
       "      <td>0</td>\n",
       "    </tr>\n",
       "    <tr>\n",
       "      <th>23515</th>\n",
       "      <td>3</td>\n",
       "      <td>0</td>\n",
       "      <td>1</td>\n",
       "      <td>0</td>\n",
       "      <td>1</td>\n",
       "      <td>0</td>\n",
       "      <td>1</td>\n",
       "      <td>3</td>\n",
       "      <td>2</td>\n",
       "      <td>3</td>\n",
       "      <td>7</td>\n",
       "    </tr>\n",
       "    <tr>\n",
       "      <th>23516</th>\n",
       "      <td>3</td>\n",
       "      <td>0</td>\n",
       "      <td>0</td>\n",
       "      <td>1</td>\n",
       "      <td>0</td>\n",
       "      <td>1</td>\n",
       "      <td>1</td>\n",
       "      <td>0</td>\n",
       "      <td>0</td>\n",
       "      <td>3</td>\n",
       "      <td>0</td>\n",
       "    </tr>\n",
       "    <tr>\n",
       "      <th>23517</th>\n",
       "      <td>3</td>\n",
       "      <td>0</td>\n",
       "      <td>0</td>\n",
       "      <td>1</td>\n",
       "      <td>2</td>\n",
       "      <td>0</td>\n",
       "      <td>1</td>\n",
       "      <td>3</td>\n",
       "      <td>2</td>\n",
       "      <td>3</td>\n",
       "      <td>7</td>\n",
       "    </tr>\n",
       "    <tr>\n",
       "      <th>23518</th>\n",
       "      <td>3</td>\n",
       "      <td>0</td>\n",
       "      <td>1</td>\n",
       "      <td>1</td>\n",
       "      <td>2</td>\n",
       "      <td>0</td>\n",
       "      <td>0</td>\n",
       "      <td>3</td>\n",
       "      <td>2</td>\n",
       "      <td>3</td>\n",
       "      <td>9</td>\n",
       "    </tr>\n",
       "    <tr>\n",
       "      <th>23519</th>\n",
       "      <td>3</td>\n",
       "      <td>0</td>\n",
       "      <td>1</td>\n",
       "      <td>1</td>\n",
       "      <td>0</td>\n",
       "      <td>1</td>\n",
       "      <td>0</td>\n",
       "      <td>0</td>\n",
       "      <td>3</td>\n",
       "      <td>1</td>\n",
       "      <td>7</td>\n",
       "    </tr>\n",
       "    <tr>\n",
       "      <th>23520</th>\n",
       "      <td>3</td>\n",
       "      <td>0</td>\n",
       "      <td>1</td>\n",
       "      <td>1</td>\n",
       "      <td>0</td>\n",
       "      <td>0</td>\n",
       "      <td>0</td>\n",
       "      <td>0</td>\n",
       "      <td>2</td>\n",
       "      <td>0</td>\n",
       "      <td>7</td>\n",
       "    </tr>\n",
       "    <tr>\n",
       "      <th>23521</th>\n",
       "      <td>3</td>\n",
       "      <td>0</td>\n",
       "      <td>1</td>\n",
       "      <td>1</td>\n",
       "      <td>1</td>\n",
       "      <td>0</td>\n",
       "      <td>0</td>\n",
       "      <td>3</td>\n",
       "      <td>1</td>\n",
       "      <td>3</td>\n",
       "      <td>7</td>\n",
       "    </tr>\n",
       "    <tr>\n",
       "      <th>23522</th>\n",
       "      <td>3</td>\n",
       "      <td>0</td>\n",
       "      <td>0</td>\n",
       "      <td>1</td>\n",
       "      <td>2</td>\n",
       "      <td>0</td>\n",
       "      <td>0</td>\n",
       "      <td>3</td>\n",
       "      <td>3</td>\n",
       "      <td>0</td>\n",
       "      <td>0</td>\n",
       "    </tr>\n",
       "    <tr>\n",
       "      <th>23523</th>\n",
       "      <td>3</td>\n",
       "      <td>0</td>\n",
       "      <td>1</td>\n",
       "      <td>1</td>\n",
       "      <td>2</td>\n",
       "      <td>0</td>\n",
       "      <td>1</td>\n",
       "      <td>3</td>\n",
       "      <td>2</td>\n",
       "      <td>0</td>\n",
       "      <td>9</td>\n",
       "    </tr>\n",
       "  </tbody>\n",
       "</table>\n",
       "</div>"
      ],
      "text/plain": [
       "       country  bank_account  location_type  cellphone_access  household_size  \\\n",
       "23514        3             0              0                 1               1   \n",
       "23515        3             0              1                 0               1   \n",
       "23516        3             0              0                 1               0   \n",
       "23517        3             0              0                 1               2   \n",
       "23518        3             0              1                 1               2   \n",
       "23519        3             0              1                 1               0   \n",
       "23520        3             0              1                 1               0   \n",
       "23521        3             0              1                 1               1   \n",
       "23522        3             0              0                 1               2   \n",
       "23523        3             0              1                 1               2   \n",
       "\n",
       "       age_of_respondent  gender_of_respondent  relationship_with_head  \\\n",
       "23514                  0                     0                       1   \n",
       "23515                  0                     1                       3   \n",
       "23516                  1                     1                       0   \n",
       "23517                  0                     1                       3   \n",
       "23518                  0                     0                       3   \n",
       "23519                  1                     0                       0   \n",
       "23520                  0                     0                       0   \n",
       "23521                  0                     0                       3   \n",
       "23522                  0                     0                       3   \n",
       "23523                  0                     1                       3   \n",
       "\n",
       "       marital_status  education_level  job_type  \n",
       "23514               0                3         0  \n",
       "23515               2                3         7  \n",
       "23516               0                3         0  \n",
       "23517               2                3         7  \n",
       "23518               2                3         9  \n",
       "23519               3                1         7  \n",
       "23520               2                0         7  \n",
       "23521               1                3         7  \n",
       "23522               3                0         0  \n",
       "23523               2                0         9  "
      ]
     },
     "execution_count": 5,
     "metadata": {},
     "output_type": "execute_result"
    }
   ],
   "source": [
    "X.tail(10)"
   ]
  },
  {
   "cell_type": "code",
   "execution_count": null,
   "metadata": {},
   "outputs": [],
   "source": []
  },
  {
   "cell_type": "code",
   "execution_count": 3,
   "metadata": {},
   "outputs": [],
   "source": [
    "X=traindf.drop(['year'], axis=1)\n",
    "X=X.drop(['uniqueid'], axis=1)\n"
   ]
  },
  {
   "cell_type": "code",
   "execution_count": 4,
   "metadata": {},
   "outputs": [],
   "source": [
    "X[\"bank_account\"]=X.bank_account.map( {\"Yes\": 1 , \"No\" : 0 })\n",
    "X[\"cellphone_access\"]=X.cellphone_access.map( {\"Yes\": 1 , \"No\" : 0 })\n",
    "X[\"location_type\"]=X.location_type.map( {\"Rural\": 1 , \"Urban\" : 0 })\n",
    "X[\"gender_of_respondent\"]=X.gender_of_respondent.map( {\"Male\": 1 , \"Female\" : 0 })\n",
    "X[\"relationship_with_head\"]=X.relationship_with_head.map( {\"Head of Household\": 0 , \"Spouse\" : 1 ,\"Child\" : 3  ,\"Other relative\" : 3 ,\"Parent\" : 3 ,\"Other non-relatives\" : 3  })\n",
    "X[\"marital_status\"]=X.marital_status.map( {\"Married/Living together\": 0 , \"Widowed\" : 1 , \"Single/Never Married\" : 2, \"Divorced/Seperated\" : 3 , \"Dont know\" : 4 })\n",
    "X[\"education_level\"]=X.education_level.map( {\"Secondary education\": 0 , \"No formal education\" : 1 , \"Vocational/Specialised training\" : 2, \"Primary education\" : 3 , \"Tertiary education\" : 4, \"Other/Dont know/RTA\" : 5 })\n",
    "X[\"job_type\"]=X.job_type.map( {\"Self employed\": 0 , \"Government Dependent\" : 1 , \"Formally employed Private\" : 2, \"Informally employed\" : 3 , \"Formally employed Government\" : 4, \"Farming and Fishing\" : 5 , \"Remittance Dependent\" : 6 , \"Other Income\" : 7 , \"Dont Know/Refuse to answer\" : 8 , \"No Income\" : 9 })\n",
    "X[\"country\"]=X.country.map( {\"Kenya\": 0 , \"Rwanda\" : 1, \"Tanzania\" : 2, \"Uganda\" : 3 })\n",
    "X[\"age_of_respondent\"]=X.age_of_respondent.map( lambda x: 0 if x<30.1 else ( 2 if (x>50.1) else 1) )\n",
    "X[\"household_size\"]=X.household_size.map( lambda x: 0 if x<4.1 else ( 2 if (x>6.1) else 1) )\n"
   ]
  },
  {
   "cell_type": "code",
   "execution_count": 122,
   "metadata": {},
   "outputs": [],
   "source": [
    "x_test=X[\"bank_account\"]\n",
    "x_train=X.drop(['bank_account'], axis=1)\n"
   ]
  },
  {
   "cell_type": "code",
   "execution_count": 132,
   "metadata": {},
   "outputs": [],
   "source": [
    "X=x_train\n",
    "Y=x_test"
   ]
  },
  {
   "cell_type": "code",
   "execution_count": 130,
   "metadata": {},
   "outputs": [],
   "source": [
    "from sklearn.model_selection import train_test_split\n",
    "from sklearn.neighbors import KNeighborsClassifier\n",
    "from sklearn.svm import SVC\n",
    "\n",
    "from sklearn.model_selection import KFold\n",
    "from sklearn.model_selection import cross_val_score\n",
    "k_fold = KFold(n_splits=10, shuffle=True, random_state=0)\n",
    "\n",
    "import numpy as np"
   ]
  },
  {
   "cell_type": "code",
   "execution_count": 151,
   "metadata": {},
   "outputs": [],
   "source": [
    "import xgboost as xgb\n",
    "from sklearn.metrics import auc, accuracy_score, confusion_matrix, mean_squared_error\n"
   ]
  },
  {
   "cell_type": "code",
   "execution_count": 133,
   "metadata": {},
   "outputs": [],
   "source": [
    "X_train,X_test,Y_train,Y_test=train_test_split(X,Y,test_size=0.33,random_state=42)"
   ]
  },
  {
   "cell_type": "code",
   "execution_count": 153,
   "metadata": {},
   "outputs": [
    {
     "data": {
      "text/plain": [
       "XGBClassifier(base_score=0.5, booster='gbtree', colsample_bylevel=1,\n",
       "              colsample_bynode=1, colsample_bytree=1, gamma=0,\n",
       "              learning_rate=0.1, max_delta_step=0, max_depth=3,\n",
       "              min_child_weight=1, missing=None, n_estimators=100, n_jobs=1,\n",
       "              nthread=None, objective='binary:logistic', random_state=42,\n",
       "              reg_alpha=0, reg_lambda=1, scale_pos_weight=1, seed=None,\n",
       "              silent=None, subsample=1, verbosity=1)"
      ]
     },
     "execution_count": 153,
     "metadata": {},
     "output_type": "execute_result"
    }
   ],
   "source": [
    "\n",
    "xgb_model = xgb.XGBClassifier(objective=\"binary:logistic\", random_state=42)\n",
    "xgb_model.fit(X_train,Y_train)\n"
   ]
  },
  {
   "cell_type": "code",
   "execution_count": 155,
   "metadata": {},
   "outputs": [
    {
     "name": "stdout",
     "output_type": "stream",
     "text": [
      "[[13244   290]\n",
      " [ 1448   779]]\n"
     ]
    }
   ],
   "source": [
    "\n",
    "y_pred = xgb_model.predict(X_train)\n",
    "\n",
    "print(confusion_matrix(Y_train, y_pred))\n",
    "\n"
   ]
  },
  {
   "cell_type": "code",
   "execution_count": null,
   "metadata": {},
   "outputs": [],
   "source": []
  },
  {
   "cell_type": "code",
   "execution_count": null,
   "metadata": {},
   "outputs": [],
   "source": []
  },
  {
   "cell_type": "code",
   "execution_count": null,
   "metadata": {},
   "outputs": [],
   "source": []
  },
  {
   "cell_type": "code",
   "execution_count": 136,
   "metadata": {},
   "outputs": [],
   "source": [
    "testdf = pd.read_csv(path+\"/Test_v2.csv\")"
   ]
  },
  {
   "cell_type": "code",
   "execution_count": 137,
   "metadata": {},
   "outputs": [],
   "source": [
    "Y=testdf.drop(['year'], axis=1)\n",
    "Y=Y.drop(['uniqueid'], axis=1)\n"
   ]
  },
  {
   "cell_type": "code",
   "execution_count": 139,
   "metadata": {},
   "outputs": [],
   "source": [
    "Y[\"cellphone_access\"]=Y.cellphone_access.map( {\"Yes\": 1 , \"No\" : 0 })\n",
    "Y[\"location_type\"]=Y.location_type.map( {\"Rural\": 1 , \"Urban\" : 0 })\n",
    "Y[\"gender_of_respondent\"]=Y.gender_of_respondent.map( {\"Male\": 1 , \"Female\" : 0 })\n",
    "Y[\"relationship_with_head\"]=Y.relationship_with_head.map( {\"Head of Household\": 0 , \"Spouse\" : 1 ,\"Child\" : 3  ,\"Other relative\" : 3 ,\"Parent\" : 3 ,\"Other non-relatives\" : 3  })\n",
    "Y[\"marital_status\"]=Y.marital_status.map( {\"Married/Living together\": 0 , \"Widowed\" : 1 , \"Single/Never Married\" : 2, \"Divorced/Seperated\" : 3 , \"Dont know\" : 4 })\n",
    "Y[\"education_level\"]=Y.education_level.map( {\"Secondary education\": 0 , \"No formal education\" : 1 , \"Vocational/Specialised training\" : 2, \"Primary education\" : 3 , \"Tertiary education\" : 4, \"Other/Dont know/RTA\" : 5 })\n",
    "Y[\"job_type\"]=Y.job_type.map( {\"Self employed\": 0 , \"Government Dependent\" : 1 , \"Formally employed Private\" : 2, \"Informally employed\" : 3 , \"Formally employed Government\" : 4, \"Farming and Fishing\" : 5 , \"Remittance Dependent\" : 6 , \"Other Income\" : 7 , \"Dont Know/Refuse to answer\" : 8 , \"No Income\" : 9 })\n",
    "Y[\"country\"]=Y.country.map( {\"Kenya\": 0 , \"Rwanda\" : 1, \"Tanzania\" : 2, \"Uganda\" : 3 })\n",
    "Y[\"age_of_respondent\"]=Y.age_of_respondent.map( lambda x: 0 if x<30.1 else ( 2 if (x>50.1) else 1) )\n",
    "Y[\"household_size\"]=Y.household_size.map( lambda x: 0 if x<4.1 else ( 2 if (x>6.1) else 1) )\n"
   ]
  },
  {
   "cell_type": "code",
   "execution_count": 140,
   "metadata": {},
   "outputs": [
    {
     "data": {
      "text/html": [
       "<div>\n",
       "<style scoped>\n",
       "    .dataframe tbody tr th:only-of-type {\n",
       "        vertical-align: middle;\n",
       "    }\n",
       "\n",
       "    .dataframe tbody tr th {\n",
       "        vertical-align: top;\n",
       "    }\n",
       "\n",
       "    .dataframe thead th {\n",
       "        text-align: right;\n",
       "    }\n",
       "</style>\n",
       "<table border=\"1\" class=\"dataframe\">\n",
       "  <thead>\n",
       "    <tr style=\"text-align: right;\">\n",
       "      <th></th>\n",
       "      <th>country</th>\n",
       "      <th>location_type</th>\n",
       "      <th>cellphone_access</th>\n",
       "      <th>household_size</th>\n",
       "      <th>age_of_respondent</th>\n",
       "      <th>gender_of_respondent</th>\n",
       "      <th>relationship_with_head</th>\n",
       "      <th>marital_status</th>\n",
       "      <th>education_level</th>\n",
       "      <th>job_type</th>\n",
       "    </tr>\n",
       "  </thead>\n",
       "  <tbody>\n",
       "    <tr>\n",
       "      <th>0</th>\n",
       "      <td>0</td>\n",
       "      <td>0</td>\n",
       "      <td>1</td>\n",
       "      <td>0</td>\n",
       "      <td>0</td>\n",
       "      <td>1</td>\n",
       "      <td>0</td>\n",
       "      <td>0</td>\n",
       "      <td>0</td>\n",
       "      <td>4</td>\n",
       "    </tr>\n",
       "    <tr>\n",
       "      <th>1</th>\n",
       "      <td>0</td>\n",
       "      <td>0</td>\n",
       "      <td>1</td>\n",
       "      <td>2</td>\n",
       "      <td>2</td>\n",
       "      <td>1</td>\n",
       "      <td>0</td>\n",
       "      <td>0</td>\n",
       "      <td>2</td>\n",
       "      <td>2</td>\n",
       "    </tr>\n",
       "    <tr>\n",
       "      <th>2</th>\n",
       "      <td>0</td>\n",
       "      <td>1</td>\n",
       "      <td>0</td>\n",
       "      <td>0</td>\n",
       "      <td>2</td>\n",
       "      <td>0</td>\n",
       "      <td>3</td>\n",
       "      <td>0</td>\n",
       "      <td>1</td>\n",
       "      <td>6</td>\n",
       "    </tr>\n",
       "    <tr>\n",
       "      <th>3</th>\n",
       "      <td>0</td>\n",
       "      <td>1</td>\n",
       "      <td>0</td>\n",
       "      <td>1</td>\n",
       "      <td>1</td>\n",
       "      <td>0</td>\n",
       "      <td>0</td>\n",
       "      <td>0</td>\n",
       "      <td>3</td>\n",
       "      <td>6</td>\n",
       "    </tr>\n",
       "    <tr>\n",
       "      <th>4</th>\n",
       "      <td>0</td>\n",
       "      <td>0</td>\n",
       "      <td>0</td>\n",
       "      <td>0</td>\n",
       "      <td>0</td>\n",
       "      <td>1</td>\n",
       "      <td>3</td>\n",
       "      <td>2</td>\n",
       "      <td>0</td>\n",
       "      <td>6</td>\n",
       "    </tr>\n",
       "  </tbody>\n",
       "</table>\n",
       "</div>"
      ],
      "text/plain": [
       "   country  location_type  cellphone_access  household_size  \\\n",
       "0        0              0                 1               0   \n",
       "1        0              0                 1               2   \n",
       "2        0              1                 0               0   \n",
       "3        0              1                 0               1   \n",
       "4        0              0                 0               0   \n",
       "\n",
       "   age_of_respondent  gender_of_respondent  relationship_with_head  \\\n",
       "0                  0                     1                       0   \n",
       "1                  2                     1                       0   \n",
       "2                  2                     0                       3   \n",
       "3                  1                     0                       0   \n",
       "4                  0                     1                       3   \n",
       "\n",
       "   marital_status  education_level  job_type  \n",
       "0               0                0         4  \n",
       "1               0                2         2  \n",
       "2               0                1         6  \n",
       "3               0                3         6  \n",
       "4               2                0         6  "
      ]
     },
     "execution_count": 140,
     "metadata": {},
     "output_type": "execute_result"
    }
   ],
   "source": [
    "Y.head()"
   ]
  },
  {
   "cell_type": "code",
   "execution_count": 156,
   "metadata": {},
   "outputs": [],
   "source": [
    "pred = xgb_model.predict(Y)\n"
   ]
  },
  {
   "cell_type": "code",
   "execution_count": 157,
   "metadata": {},
   "outputs": [],
   "source": [
    "subm=pd.DataFrame({\n",
    "    \"uniqueid\":testdf[\"uniqueid\"]+\" x \"+testdf[\"country\"],\n",
    "    \"bank_account\":pred\n",
    "    })"
   ]
  },
  {
   "cell_type": "code",
   "execution_count": 158,
   "metadata": {},
   "outputs": [
    {
     "data": {
      "text/html": [
       "<div>\n",
       "<style scoped>\n",
       "    .dataframe tbody tr th:only-of-type {\n",
       "        vertical-align: middle;\n",
       "    }\n",
       "\n",
       "    .dataframe tbody tr th {\n",
       "        vertical-align: top;\n",
       "    }\n",
       "\n",
       "    .dataframe thead th {\n",
       "        text-align: right;\n",
       "    }\n",
       "</style>\n",
       "<table border=\"1\" class=\"dataframe\">\n",
       "  <thead>\n",
       "    <tr style=\"text-align: right;\">\n",
       "      <th></th>\n",
       "      <th>uniqueid</th>\n",
       "      <th>bank_account</th>\n",
       "    </tr>\n",
       "  </thead>\n",
       "  <tbody>\n",
       "    <tr>\n",
       "      <th>0</th>\n",
       "      <td>uniqueid_6056 x Kenya</td>\n",
       "      <td>1</td>\n",
       "    </tr>\n",
       "    <tr>\n",
       "      <th>1</th>\n",
       "      <td>uniqueid_6060 x Kenya</td>\n",
       "      <td>1</td>\n",
       "    </tr>\n",
       "    <tr>\n",
       "      <th>2</th>\n",
       "      <td>uniqueid_6065 x Kenya</td>\n",
       "      <td>0</td>\n",
       "    </tr>\n",
       "    <tr>\n",
       "      <th>3</th>\n",
       "      <td>uniqueid_6072 x Kenya</td>\n",
       "      <td>0</td>\n",
       "    </tr>\n",
       "    <tr>\n",
       "      <th>4</th>\n",
       "      <td>uniqueid_6073 x Kenya</td>\n",
       "      <td>0</td>\n",
       "    </tr>\n",
       "  </tbody>\n",
       "</table>\n",
       "</div>"
      ],
      "text/plain": [
       "                uniqueid  bank_account\n",
       "0  uniqueid_6056 x Kenya             1\n",
       "1  uniqueid_6060 x Kenya             1\n",
       "2  uniqueid_6065 x Kenya             0\n",
       "3  uniqueid_6072 x Kenya             0\n",
       "4  uniqueid_6073 x Kenya             0"
      ]
     },
     "execution_count": 158,
     "metadata": {},
     "output_type": "execute_result"
    }
   ],
   "source": [
    "subm.head()"
   ]
  },
  {
   "cell_type": "code",
   "execution_count": 159,
   "metadata": {},
   "outputs": [],
   "source": [
    "subm.to_csv(path +'/yooyo.csv',index=False)\n"
   ]
  },
  {
   "cell_type": "code",
   "execution_count": 72,
   "metadata": {},
   "outputs": [],
   "source": [
    "j=0\n",
    "for i in range(len(X)):\n",
    "    if(X[\"relationship_with_head\"][i]==\"Other non-relatives\"):\n",
    "        if(X[\"bank_account\"][i]==1):\n",
    "            j=j+1"
   ]
  },
  {
   "cell_type": "code",
   "execution_count": 73,
   "metadata": {},
   "outputs": [
    {
     "data": {
      "text/plain": [
       "20"
      ]
     },
     "execution_count": 73,
     "metadata": {},
     "output_type": "execute_result"
    }
   ],
   "source": [
    "j"
   ]
  },
  {
   "cell_type": "code",
   "execution_count": 97,
   "metadata": {},
   "outputs": [
    {
     "data": {
      "text/plain": [
       "count             23524\n",
       "unique               10\n",
       "top       Self employed\n",
       "freq               6437\n",
       "Name: job_type, dtype: object"
      ]
     },
     "execution_count": 97,
     "metadata": {},
     "output_type": "execute_result"
    }
   ],
   "source": [
    "traindf['job_type'].describe()\n"
   ]
  },
  {
   "cell_type": "code",
   "execution_count": null,
   "metadata": {},
   "outputs": [],
   "source": []
  },
  {
   "cell_type": "code",
   "execution_count": 105,
   "metadata": {},
   "outputs": [],
   "source": [
    "d=dict()\n",
    "for i in range(len(X)):\n",
    "    x=X[\"country\"][i]\n",
    "    d[x]=1\n",
    "d.keys()"
   ]
  },
  {
   "cell_type": "code",
   "execution_count": null,
   "metadata": {},
   "outputs": [],
   "source": []
  }
 ],
 "metadata": {
  "kernelspec": {
   "display_name": "Python 3",
   "language": "python",
   "name": "python3"
  },
  "language_info": {
   "codemirror_mode": {
    "name": "ipython",
    "version": 3
   },
   "file_extension": ".py",
   "mimetype": "text/x-python",
   "name": "python",
   "nbconvert_exporter": "python",
   "pygments_lexer": "ipython3",
   "version": "3.6.9"
  }
 },
 "nbformat": 4,
 "nbformat_minor": 2
}
